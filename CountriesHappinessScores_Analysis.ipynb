{
 "cells": [
  {
   "cell_type": "markdown",
   "id": "8b4705d7",
   "metadata": {},
   "source": [
    "### This notebook analyzes a dataset containing happiness scores of various countries. The analysis involves cleaning the data to remove inconsistencies and duplicates, followed by visualizations to draw meaningful conclusions."
   ]
  },
  {
   "cell_type": "markdown",
   "id": "76be4eb6",
   "metadata": {},
   "source": [
    "## <font color='blue'>Importing the necessary libraries: </font>"
   ]
  },
  {
   "cell_type": "code",
   "execution_count": 1,
   "id": "6acad619",
   "metadata": {},
   "outputs": [],
   "source": [
    "import pandas as pd\n",
    "import matplotlib.pyplot as plt\n",
    "import seaborn as sns\n",
    "import numpy as np"
   ]
  },
  {
   "cell_type": "markdown",
   "id": "d2d05696",
   "metadata": {},
   "source": [
    "## <font color='blue'>Loading all of the CSV files to their corresponding year DataFrame variables, then adding a year column to show what year the data was collected from:</font>"
   ]
  },
  {
   "cell_type": "code",
   "execution_count": 2,
   "id": "198fee3c",
   "metadata": {},
   "outputs": [],
   "source": [
    "# reading CSV files\n",
    "df_2015 = pd.read_csv('2015.csv')\n",
    "df_2016 = pd.read_csv('2016.csv')\n",
    "df_2017 = pd.read_csv('2017.csv')\n",
    "df_2018 = pd.read_csv('2018.csv')\n",
    "df_2019 = pd.read_csv('2019.csv')\n",
    "\n",
    "\n",
    "data_frames = [df_2015,df_2016,df_2017,df_2018,df_2019]\n",
    "years = [2015,2016,2017,2018,2019]\n",
    "\n",
    "# adding the year to each dataframe\n",
    "for i,x in enumerate(data_frames):\n",
    "    x['Year'] = years[i] \n",
    "\n"
   ]
  },
  {
   "cell_type": "markdown",
   "id": "1169a5f7",
   "metadata": {},
   "source": [
    "# <font color='red'>The data should be cleaned first before data visualization and analysis:</font>"
   ]
  },
  {
   "cell_type": "markdown",
   "id": "b04b3be9",
   "metadata": {},
   "source": [
    "## <font color='blue'>Uniting the column names accross all dataframes using a map:</font>"
   ]
  },
  {
   "cell_type": "code",
   "execution_count": 3,
   "id": "275a076c",
   "metadata": {},
   "outputs": [],
   "source": [
    "#creating map\n",
    "column_mapping = {\n",
    "    'Score': 'Happiness Score',\n",
    "    'Happiness.Score':'Happiness Score',\n",
    "    'Economy (GDP per Capita)': 'GDP per capita',\n",
    "    'Family': 'Social support',\n",
    "    'Health (Life Expectancy)': 'Healthy life expectancy',\n",
    "    'Freedom to make life choices' :'Freedom',\n",
    "    'Trust (Government Corruption)': 'Perceptions of corruption',\n",
    "    'Happiness.Rank':'Happiness Rank',\n",
    "    'Overall rank':'Happiness Rank',\n",
    "    'Country or region':'Country',\n",
    "    'Economy..GDP.per.Capita.':'GDP per capita',\n",
    "    'Health..Life.Expectancy.':'Healthy life expectancy',\n",
    "    'Dystopia.Residual':'Dystopia Residual',\n",
    "    'Trust..Government.Corruption.':'Perceptions of corruption'\n",
    "}\n",
    "\n",
    "# apply the mapping to column names of each dataframe\n",
    "for df in data_frames:\n",
    "    df.rename(columns=column_mapping, inplace=True)\n"
   ]
  },
  {
   "cell_type": "markdown",
   "id": "9f4d78e5",
   "metadata": {},
   "source": [
    "## <font color='blue'>Dropping irrelevant columns which wont be used in this analysis:</font>"
   ]
  },
  {
   "cell_type": "code",
   "execution_count": 4,
   "id": "65d1b1eb",
   "metadata": {},
   "outputs": [],
   "source": [
    "df_2015.drop(columns=['Standard Error'],inplace=True)\n",
    "df_2016.drop(columns=['Lower Confidence Interval','Upper Confidence Interval'],inplace=True)\n",
    "df_2017.drop(columns=['Whisker.high','Whisker.low'],inplace=True)"
   ]
  },
  {
   "cell_type": "markdown",
   "id": "29abcb9d",
   "metadata": {},
   "source": [
    "## <font color='blue'>Calculating and adding the Dystopia Residual column values by subtracting the summation of the other scores from the total Score value:</font>"
   ]
  },
  {
   "cell_type": "code",
   "execution_count": 5,
   "id": "26c9bdd1",
   "metadata": {},
   "outputs": [],
   "source": [
    "df_2018['Dystopia Residual'] = df_2018['Happiness Score']-(df_2018['GDP per capita']+df_2018['Social support']+df_2018['Healthy life expectancy']+df_2018['Freedom']+df_2018['Perceptions of corruption']+df_2018['Generosity'])\n",
    "df_2019['Dystopia Residual'] = df_2019['Happiness Score']-(df_2019['GDP per capita']+df_2019['Social support']+df_2019['Healthy life expectancy']+df_2019['Freedom']+df_2019['Perceptions of corruption']+df_2019['Generosity'])"
   ]
  },
  {
   "cell_type": "markdown",
   "id": "237127f3",
   "metadata": {},
   "source": [
    "## <font color='blue'>Inspecting the data types and column names for a inconsistant data before merging together:</font>"
   ]
  },
  {
   "cell_type": "code",
   "execution_count": 6,
   "id": "4d0ac654",
   "metadata": {
    "scrolled": true
   },
   "outputs": [
    {
     "name": "stdout",
     "output_type": "stream",
     "text": [
      "<class 'pandas.core.frame.DataFrame'>\n",
      "RangeIndex: 158 entries, 0 to 157\n",
      "Data columns (total 12 columns):\n",
      " #   Column                     Non-Null Count  Dtype  \n",
      "---  ------                     --------------  -----  \n",
      " 0   Country                    158 non-null    object \n",
      " 1   Region                     158 non-null    object \n",
      " 2   Happiness Rank             158 non-null    int64  \n",
      " 3   Happiness Score            158 non-null    float64\n",
      " 4   GDP per capita             158 non-null    float64\n",
      " 5   Social support             158 non-null    float64\n",
      " 6   Healthy life expectancy    158 non-null    float64\n",
      " 7   Freedom                    158 non-null    float64\n",
      " 8   Perceptions of corruption  158 non-null    float64\n",
      " 9   Generosity                 158 non-null    float64\n",
      " 10  Dystopia Residual          158 non-null    float64\n",
      " 11  Year                       158 non-null    int64  \n",
      "dtypes: float64(8), int64(2), object(2)\n",
      "memory usage: 14.9+ KB\n",
      "<class 'pandas.core.frame.DataFrame'>\n",
      "RangeIndex: 157 entries, 0 to 156\n",
      "Data columns (total 12 columns):\n",
      " #   Column                     Non-Null Count  Dtype  \n",
      "---  ------                     --------------  -----  \n",
      " 0   Country                    157 non-null    object \n",
      " 1   Region                     157 non-null    object \n",
      " 2   Happiness Rank             157 non-null    int64  \n",
      " 3   Happiness Score            157 non-null    float64\n",
      " 4   GDP per capita             157 non-null    float64\n",
      " 5   Social support             157 non-null    float64\n",
      " 6   Healthy life expectancy    157 non-null    float64\n",
      " 7   Freedom                    157 non-null    float64\n",
      " 8   Perceptions of corruption  157 non-null    float64\n",
      " 9   Generosity                 157 non-null    float64\n",
      " 10  Dystopia Residual          157 non-null    float64\n",
      " 11  Year                       157 non-null    int64  \n",
      "dtypes: float64(8), int64(2), object(2)\n",
      "memory usage: 14.8+ KB\n",
      "<class 'pandas.core.frame.DataFrame'>\n",
      "RangeIndex: 155 entries, 0 to 154\n",
      "Data columns (total 11 columns):\n",
      " #   Column                     Non-Null Count  Dtype  \n",
      "---  ------                     --------------  -----  \n",
      " 0   Country                    155 non-null    object \n",
      " 1   Happiness Rank             155 non-null    int64  \n",
      " 2   Happiness Score            155 non-null    float64\n",
      " 3   GDP per capita             155 non-null    float64\n",
      " 4   Social support             155 non-null    float64\n",
      " 5   Healthy life expectancy    155 non-null    float64\n",
      " 6   Freedom                    155 non-null    float64\n",
      " 7   Generosity                 155 non-null    float64\n",
      " 8   Perceptions of corruption  155 non-null    float64\n",
      " 9   Dystopia Residual          155 non-null    float64\n",
      " 10  Year                       155 non-null    int64  \n",
      "dtypes: float64(8), int64(2), object(1)\n",
      "memory usage: 13.4+ KB\n",
      "<class 'pandas.core.frame.DataFrame'>\n",
      "RangeIndex: 156 entries, 0 to 155\n",
      "Data columns (total 11 columns):\n",
      " #   Column                     Non-Null Count  Dtype  \n",
      "---  ------                     --------------  -----  \n",
      " 0   Happiness Rank             156 non-null    int64  \n",
      " 1   Country                    156 non-null    object \n",
      " 2   Happiness Score            156 non-null    float64\n",
      " 3   GDP per capita             156 non-null    float64\n",
      " 4   Social support             156 non-null    float64\n",
      " 5   Healthy life expectancy    156 non-null    float64\n",
      " 6   Freedom                    156 non-null    float64\n",
      " 7   Generosity                 156 non-null    float64\n",
      " 8   Perceptions of corruption  155 non-null    float64\n",
      " 9   Year                       156 non-null    int64  \n",
      " 10  Dystopia Residual          155 non-null    float64\n",
      "dtypes: float64(8), int64(2), object(1)\n",
      "memory usage: 13.5+ KB\n",
      "<class 'pandas.core.frame.DataFrame'>\n",
      "RangeIndex: 156 entries, 0 to 155\n",
      "Data columns (total 11 columns):\n",
      " #   Column                     Non-Null Count  Dtype  \n",
      "---  ------                     --------------  -----  \n",
      " 0   Happiness Rank             156 non-null    int64  \n",
      " 1   Country                    156 non-null    object \n",
      " 2   Happiness Score            156 non-null    float64\n",
      " 3   GDP per capita             156 non-null    float64\n",
      " 4   Social support             156 non-null    float64\n",
      " 5   Healthy life expectancy    156 non-null    float64\n",
      " 6   Freedom                    156 non-null    float64\n",
      " 7   Generosity                 156 non-null    float64\n",
      " 8   Perceptions of corruption  156 non-null    float64\n",
      " 9   Year                       156 non-null    int64  \n",
      " 10  Dystopia Residual          156 non-null    float64\n",
      "dtypes: float64(8), int64(2), object(1)\n",
      "memory usage: 13.5+ KB\n"
     ]
    }
   ],
   "source": [
    "df_2015.info()\n",
    "df_2016.info()\n",
    "df_2017.info()\n",
    "df_2018.info()\n",
    "df_2019.info()"
   ]
  },
  {
   "cell_type": "markdown",
   "id": "5d5b3863",
   "metadata": {},
   "source": [
    "- ### <font color='green'>All of the dataframes have 11 columns in common. The Region column, however, is missing for years 2017, 2018, and 2019. In addition, there are two null values in year 2018 fields \"Perceptions of corruption\" and \"Dystopia Residual\".</font> \n",
    "- ### <font color='purple'>These missing values will be dealt with after merging.</font>"
   ]
  },
  {
   "cell_type": "markdown",
   "id": "deb8988a",
   "metadata": {},
   "source": [
    "## <font color='blue'>Checking if any of the dataframes have duplicated data:</font>"
   ]
  },
  {
   "cell_type": "code",
   "execution_count": 7,
   "id": "099fde76",
   "metadata": {},
   "outputs": [
    {
     "data": {
      "text/plain": [
       "False"
      ]
     },
     "execution_count": 7,
     "metadata": {},
     "output_type": "execute_result"
    }
   ],
   "source": [
    "df_2015.duplicated().any()"
   ]
  },
  {
   "cell_type": "code",
   "execution_count": 8,
   "id": "99b81c0e",
   "metadata": {},
   "outputs": [
    {
     "data": {
      "text/plain": [
       "False"
      ]
     },
     "execution_count": 8,
     "metadata": {},
     "output_type": "execute_result"
    }
   ],
   "source": [
    "df_2016.duplicated().any()"
   ]
  },
  {
   "cell_type": "code",
   "execution_count": 9,
   "id": "c30f88d9",
   "metadata": {},
   "outputs": [
    {
     "data": {
      "text/plain": [
       "False"
      ]
     },
     "execution_count": 9,
     "metadata": {},
     "output_type": "execute_result"
    }
   ],
   "source": [
    "df_2017.duplicated().any()"
   ]
  },
  {
   "cell_type": "code",
   "execution_count": 10,
   "id": "ce13e286",
   "metadata": {},
   "outputs": [
    {
     "data": {
      "text/plain": [
       "False"
      ]
     },
     "execution_count": 10,
     "metadata": {},
     "output_type": "execute_result"
    }
   ],
   "source": [
    "df_2018.duplicated().any()"
   ]
  },
  {
   "cell_type": "code",
   "execution_count": 11,
   "id": "c2e8a7e2",
   "metadata": {
    "scrolled": true
   },
   "outputs": [
    {
     "data": {
      "text/plain": [
       "False"
      ]
     },
     "execution_count": 11,
     "metadata": {},
     "output_type": "execute_result"
    }
   ],
   "source": [
    "df_2019.duplicated().any()"
   ]
  },
  {
   "cell_type": "markdown",
   "id": "b9d363e2",
   "metadata": {},
   "source": [
    "### <font color='green'>There are no duplicated data in any of the dataframes.</font> "
   ]
  },
  {
   "cell_type": "markdown",
   "id": "f5a37f95",
   "metadata": {},
   "source": [
    "## <font color='blue'>Merging all of the data frames together:</font>"
   ]
  },
  {
   "cell_type": "code",
   "execution_count": 12,
   "id": "672fd4a1",
   "metadata": {
    "scrolled": false
   },
   "outputs": [
    {
     "data": {
      "text/html": [
       "<div>\n",
       "<style scoped>\n",
       "    .dataframe tbody tr th:only-of-type {\n",
       "        vertical-align: middle;\n",
       "    }\n",
       "\n",
       "    .dataframe tbody tr th {\n",
       "        vertical-align: top;\n",
       "    }\n",
       "\n",
       "    .dataframe thead th {\n",
       "        text-align: right;\n",
       "    }\n",
       "</style>\n",
       "<table border=\"1\" class=\"dataframe\">\n",
       "  <thead>\n",
       "    <tr style=\"text-align: right;\">\n",
       "      <th></th>\n",
       "      <th>Country</th>\n",
       "      <th>Region</th>\n",
       "      <th>Happiness Rank</th>\n",
       "      <th>Happiness Score</th>\n",
       "      <th>GDP per capita</th>\n",
       "      <th>Social support</th>\n",
       "      <th>Healthy life expectancy</th>\n",
       "      <th>Freedom</th>\n",
       "      <th>Perceptions of corruption</th>\n",
       "      <th>Generosity</th>\n",
       "      <th>Dystopia Residual</th>\n",
       "      <th>Year</th>\n",
       "    </tr>\n",
       "  </thead>\n",
       "  <tbody>\n",
       "    <tr>\n",
       "      <th>0</th>\n",
       "      <td>Switzerland</td>\n",
       "      <td>Western Europe</td>\n",
       "      <td>1</td>\n",
       "      <td>7.587</td>\n",
       "      <td>1.39651</td>\n",
       "      <td>1.34951</td>\n",
       "      <td>0.94143</td>\n",
       "      <td>0.66557</td>\n",
       "      <td>0.41978</td>\n",
       "      <td>0.29678</td>\n",
       "      <td>2.51738</td>\n",
       "      <td>2015</td>\n",
       "    </tr>\n",
       "    <tr>\n",
       "      <th>1</th>\n",
       "      <td>Iceland</td>\n",
       "      <td>Western Europe</td>\n",
       "      <td>2</td>\n",
       "      <td>7.561</td>\n",
       "      <td>1.30232</td>\n",
       "      <td>1.40223</td>\n",
       "      <td>0.94784</td>\n",
       "      <td>0.62877</td>\n",
       "      <td>0.14145</td>\n",
       "      <td>0.43630</td>\n",
       "      <td>2.70201</td>\n",
       "      <td>2015</td>\n",
       "    </tr>\n",
       "    <tr>\n",
       "      <th>2</th>\n",
       "      <td>Denmark</td>\n",
       "      <td>Western Europe</td>\n",
       "      <td>3</td>\n",
       "      <td>7.527</td>\n",
       "      <td>1.32548</td>\n",
       "      <td>1.36058</td>\n",
       "      <td>0.87464</td>\n",
       "      <td>0.64938</td>\n",
       "      <td>0.48357</td>\n",
       "      <td>0.34139</td>\n",
       "      <td>2.49204</td>\n",
       "      <td>2015</td>\n",
       "    </tr>\n",
       "    <tr>\n",
       "      <th>3</th>\n",
       "      <td>Norway</td>\n",
       "      <td>Western Europe</td>\n",
       "      <td>4</td>\n",
       "      <td>7.522</td>\n",
       "      <td>1.45900</td>\n",
       "      <td>1.33095</td>\n",
       "      <td>0.88521</td>\n",
       "      <td>0.66973</td>\n",
       "      <td>0.36503</td>\n",
       "      <td>0.34699</td>\n",
       "      <td>2.46531</td>\n",
       "      <td>2015</td>\n",
       "    </tr>\n",
       "    <tr>\n",
       "      <th>4</th>\n",
       "      <td>Canada</td>\n",
       "      <td>North America</td>\n",
       "      <td>5</td>\n",
       "      <td>7.427</td>\n",
       "      <td>1.32629</td>\n",
       "      <td>1.32261</td>\n",
       "      <td>0.90563</td>\n",
       "      <td>0.63297</td>\n",
       "      <td>0.32957</td>\n",
       "      <td>0.45811</td>\n",
       "      <td>2.45176</td>\n",
       "      <td>2015</td>\n",
       "    </tr>\n",
       "    <tr>\n",
       "      <th>...</th>\n",
       "      <td>...</td>\n",
       "      <td>...</td>\n",
       "      <td>...</td>\n",
       "      <td>...</td>\n",
       "      <td>...</td>\n",
       "      <td>...</td>\n",
       "      <td>...</td>\n",
       "      <td>...</td>\n",
       "      <td>...</td>\n",
       "      <td>...</td>\n",
       "      <td>...</td>\n",
       "      <td>...</td>\n",
       "    </tr>\n",
       "    <tr>\n",
       "      <th>777</th>\n",
       "      <td>Rwanda</td>\n",
       "      <td>NaN</td>\n",
       "      <td>152</td>\n",
       "      <td>3.334</td>\n",
       "      <td>0.35900</td>\n",
       "      <td>0.71100</td>\n",
       "      <td>0.61400</td>\n",
       "      <td>0.55500</td>\n",
       "      <td>0.41100</td>\n",
       "      <td>0.21700</td>\n",
       "      <td>0.46700</td>\n",
       "      <td>2019</td>\n",
       "    </tr>\n",
       "    <tr>\n",
       "      <th>778</th>\n",
       "      <td>Tanzania</td>\n",
       "      <td>NaN</td>\n",
       "      <td>153</td>\n",
       "      <td>3.231</td>\n",
       "      <td>0.47600</td>\n",
       "      <td>0.88500</td>\n",
       "      <td>0.49900</td>\n",
       "      <td>0.41700</td>\n",
       "      <td>0.14700</td>\n",
       "      <td>0.27600</td>\n",
       "      <td>0.53100</td>\n",
       "      <td>2019</td>\n",
       "    </tr>\n",
       "    <tr>\n",
       "      <th>779</th>\n",
       "      <td>Afghanistan</td>\n",
       "      <td>NaN</td>\n",
       "      <td>154</td>\n",
       "      <td>3.203</td>\n",
       "      <td>0.35000</td>\n",
       "      <td>0.51700</td>\n",
       "      <td>0.36100</td>\n",
       "      <td>0.00000</td>\n",
       "      <td>0.02500</td>\n",
       "      <td>0.15800</td>\n",
       "      <td>1.79200</td>\n",
       "      <td>2019</td>\n",
       "    </tr>\n",
       "    <tr>\n",
       "      <th>780</th>\n",
       "      <td>Central African Republic</td>\n",
       "      <td>NaN</td>\n",
       "      <td>155</td>\n",
       "      <td>3.083</td>\n",
       "      <td>0.02600</td>\n",
       "      <td>0.00000</td>\n",
       "      <td>0.10500</td>\n",
       "      <td>0.22500</td>\n",
       "      <td>0.03500</td>\n",
       "      <td>0.23500</td>\n",
       "      <td>2.45700</td>\n",
       "      <td>2019</td>\n",
       "    </tr>\n",
       "    <tr>\n",
       "      <th>781</th>\n",
       "      <td>South Sudan</td>\n",
       "      <td>NaN</td>\n",
       "      <td>156</td>\n",
       "      <td>2.853</td>\n",
       "      <td>0.30600</td>\n",
       "      <td>0.57500</td>\n",
       "      <td>0.29500</td>\n",
       "      <td>0.01000</td>\n",
       "      <td>0.09100</td>\n",
       "      <td>0.20200</td>\n",
       "      <td>1.37400</td>\n",
       "      <td>2019</td>\n",
       "    </tr>\n",
       "  </tbody>\n",
       "</table>\n",
       "<p>782 rows × 12 columns</p>\n",
       "</div>"
      ],
      "text/plain": [
       "                      Country          Region  Happiness Rank  \\\n",
       "0                 Switzerland  Western Europe               1   \n",
       "1                     Iceland  Western Europe               2   \n",
       "2                     Denmark  Western Europe               3   \n",
       "3                      Norway  Western Europe               4   \n",
       "4                      Canada   North America               5   \n",
       "..                        ...             ...             ...   \n",
       "777                    Rwanda             NaN             152   \n",
       "778                  Tanzania             NaN             153   \n",
       "779               Afghanistan             NaN             154   \n",
       "780  Central African Republic             NaN             155   \n",
       "781               South Sudan             NaN             156   \n",
       "\n",
       "     Happiness Score  GDP per capita  Social support  Healthy life expectancy  \\\n",
       "0              7.587         1.39651         1.34951                  0.94143   \n",
       "1              7.561         1.30232         1.40223                  0.94784   \n",
       "2              7.527         1.32548         1.36058                  0.87464   \n",
       "3              7.522         1.45900         1.33095                  0.88521   \n",
       "4              7.427         1.32629         1.32261                  0.90563   \n",
       "..               ...             ...             ...                      ...   \n",
       "777            3.334         0.35900         0.71100                  0.61400   \n",
       "778            3.231         0.47600         0.88500                  0.49900   \n",
       "779            3.203         0.35000         0.51700                  0.36100   \n",
       "780            3.083         0.02600         0.00000                  0.10500   \n",
       "781            2.853         0.30600         0.57500                  0.29500   \n",
       "\n",
       "     Freedom  Perceptions of corruption  Generosity  Dystopia Residual  Year  \n",
       "0    0.66557                    0.41978     0.29678            2.51738  2015  \n",
       "1    0.62877                    0.14145     0.43630            2.70201  2015  \n",
       "2    0.64938                    0.48357     0.34139            2.49204  2015  \n",
       "3    0.66973                    0.36503     0.34699            2.46531  2015  \n",
       "4    0.63297                    0.32957     0.45811            2.45176  2015  \n",
       "..       ...                        ...         ...                ...   ...  \n",
       "777  0.55500                    0.41100     0.21700            0.46700  2019  \n",
       "778  0.41700                    0.14700     0.27600            0.53100  2019  \n",
       "779  0.00000                    0.02500     0.15800            1.79200  2019  \n",
       "780  0.22500                    0.03500     0.23500            2.45700  2019  \n",
       "781  0.01000                    0.09100     0.20200            1.37400  2019  \n",
       "\n",
       "[782 rows x 12 columns]"
      ]
     },
     "execution_count": 12,
     "metadata": {},
     "output_type": "execute_result"
    }
   ],
   "source": [
    "# merging the dataframes together\n",
    "df = pd.concat([df_2015, df_2016, df_2017, df_2018, df_2019], ignore_index=True)\n",
    "df  "
   ]
  },
  {
   "cell_type": "markdown",
   "id": "3ce5690b",
   "metadata": {},
   "source": [
    "## <font color='blue'>There are missing Region values:</font>"
   ]
  },
  {
   "cell_type": "code",
   "execution_count": 13,
   "id": "3bc305e8",
   "metadata": {},
   "outputs": [
    {
     "data": {
      "text/plain": [
       "True"
      ]
     },
     "execution_count": 13,
     "metadata": {},
     "output_type": "execute_result"
    }
   ],
   "source": [
    "df['Region'].isna().any()"
   ]
  },
  {
   "cell_type": "markdown",
   "id": "78a3e960",
   "metadata": {},
   "source": [
    "## <font color='blue'>Filling missing Region values based on Country grouping:</font>"
   ]
  },
  {
   "cell_type": "code",
   "execution_count": 14,
   "id": "838dc367",
   "metadata": {},
   "outputs": [
    {
     "data": {
      "text/html": [
       "<div>\n",
       "<style scoped>\n",
       "    .dataframe tbody tr th:only-of-type {\n",
       "        vertical-align: middle;\n",
       "    }\n",
       "\n",
       "    .dataframe tbody tr th {\n",
       "        vertical-align: top;\n",
       "    }\n",
       "\n",
       "    .dataframe thead th {\n",
       "        text-align: right;\n",
       "    }\n",
       "</style>\n",
       "<table border=\"1\" class=\"dataframe\">\n",
       "  <thead>\n",
       "    <tr style=\"text-align: right;\">\n",
       "      <th></th>\n",
       "      <th>Country</th>\n",
       "      <th>Region</th>\n",
       "      <th>Happiness Rank</th>\n",
       "      <th>Happiness Score</th>\n",
       "      <th>GDP per capita</th>\n",
       "      <th>Social support</th>\n",
       "      <th>Healthy life expectancy</th>\n",
       "      <th>Freedom</th>\n",
       "      <th>Perceptions of corruption</th>\n",
       "      <th>Generosity</th>\n",
       "      <th>Dystopia Residual</th>\n",
       "      <th>Year</th>\n",
       "    </tr>\n",
       "  </thead>\n",
       "  <tbody>\n",
       "    <tr>\n",
       "      <th>0</th>\n",
       "      <td>Switzerland</td>\n",
       "      <td>Western Europe</td>\n",
       "      <td>1</td>\n",
       "      <td>7.587</td>\n",
       "      <td>1.39651</td>\n",
       "      <td>1.34951</td>\n",
       "      <td>0.94143</td>\n",
       "      <td>0.66557</td>\n",
       "      <td>0.41978</td>\n",
       "      <td>0.29678</td>\n",
       "      <td>2.51738</td>\n",
       "      <td>2015</td>\n",
       "    </tr>\n",
       "    <tr>\n",
       "      <th>1</th>\n",
       "      <td>Iceland</td>\n",
       "      <td>Western Europe</td>\n",
       "      <td>2</td>\n",
       "      <td>7.561</td>\n",
       "      <td>1.30232</td>\n",
       "      <td>1.40223</td>\n",
       "      <td>0.94784</td>\n",
       "      <td>0.62877</td>\n",
       "      <td>0.14145</td>\n",
       "      <td>0.43630</td>\n",
       "      <td>2.70201</td>\n",
       "      <td>2015</td>\n",
       "    </tr>\n",
       "    <tr>\n",
       "      <th>2</th>\n",
       "      <td>Denmark</td>\n",
       "      <td>Western Europe</td>\n",
       "      <td>3</td>\n",
       "      <td>7.527</td>\n",
       "      <td>1.32548</td>\n",
       "      <td>1.36058</td>\n",
       "      <td>0.87464</td>\n",
       "      <td>0.64938</td>\n",
       "      <td>0.48357</td>\n",
       "      <td>0.34139</td>\n",
       "      <td>2.49204</td>\n",
       "      <td>2015</td>\n",
       "    </tr>\n",
       "    <tr>\n",
       "      <th>3</th>\n",
       "      <td>Norway</td>\n",
       "      <td>Western Europe</td>\n",
       "      <td>4</td>\n",
       "      <td>7.522</td>\n",
       "      <td>1.45900</td>\n",
       "      <td>1.33095</td>\n",
       "      <td>0.88521</td>\n",
       "      <td>0.66973</td>\n",
       "      <td>0.36503</td>\n",
       "      <td>0.34699</td>\n",
       "      <td>2.46531</td>\n",
       "      <td>2015</td>\n",
       "    </tr>\n",
       "    <tr>\n",
       "      <th>4</th>\n",
       "      <td>Canada</td>\n",
       "      <td>North America</td>\n",
       "      <td>5</td>\n",
       "      <td>7.427</td>\n",
       "      <td>1.32629</td>\n",
       "      <td>1.32261</td>\n",
       "      <td>0.90563</td>\n",
       "      <td>0.63297</td>\n",
       "      <td>0.32957</td>\n",
       "      <td>0.45811</td>\n",
       "      <td>2.45176</td>\n",
       "      <td>2015</td>\n",
       "    </tr>\n",
       "    <tr>\n",
       "      <th>...</th>\n",
       "      <td>...</td>\n",
       "      <td>...</td>\n",
       "      <td>...</td>\n",
       "      <td>...</td>\n",
       "      <td>...</td>\n",
       "      <td>...</td>\n",
       "      <td>...</td>\n",
       "      <td>...</td>\n",
       "      <td>...</td>\n",
       "      <td>...</td>\n",
       "      <td>...</td>\n",
       "      <td>...</td>\n",
       "    </tr>\n",
       "    <tr>\n",
       "      <th>777</th>\n",
       "      <td>Rwanda</td>\n",
       "      <td>Sub-Saharan Africa</td>\n",
       "      <td>152</td>\n",
       "      <td>3.334</td>\n",
       "      <td>0.35900</td>\n",
       "      <td>0.71100</td>\n",
       "      <td>0.61400</td>\n",
       "      <td>0.55500</td>\n",
       "      <td>0.41100</td>\n",
       "      <td>0.21700</td>\n",
       "      <td>0.46700</td>\n",
       "      <td>2019</td>\n",
       "    </tr>\n",
       "    <tr>\n",
       "      <th>778</th>\n",
       "      <td>Tanzania</td>\n",
       "      <td>Sub-Saharan Africa</td>\n",
       "      <td>153</td>\n",
       "      <td>3.231</td>\n",
       "      <td>0.47600</td>\n",
       "      <td>0.88500</td>\n",
       "      <td>0.49900</td>\n",
       "      <td>0.41700</td>\n",
       "      <td>0.14700</td>\n",
       "      <td>0.27600</td>\n",
       "      <td>0.53100</td>\n",
       "      <td>2019</td>\n",
       "    </tr>\n",
       "    <tr>\n",
       "      <th>779</th>\n",
       "      <td>Afghanistan</td>\n",
       "      <td>Southern Asia</td>\n",
       "      <td>154</td>\n",
       "      <td>3.203</td>\n",
       "      <td>0.35000</td>\n",
       "      <td>0.51700</td>\n",
       "      <td>0.36100</td>\n",
       "      <td>0.00000</td>\n",
       "      <td>0.02500</td>\n",
       "      <td>0.15800</td>\n",
       "      <td>1.79200</td>\n",
       "      <td>2019</td>\n",
       "    </tr>\n",
       "    <tr>\n",
       "      <th>780</th>\n",
       "      <td>Central African Republic</td>\n",
       "      <td>Sub-Saharan Africa</td>\n",
       "      <td>155</td>\n",
       "      <td>3.083</td>\n",
       "      <td>0.02600</td>\n",
       "      <td>0.00000</td>\n",
       "      <td>0.10500</td>\n",
       "      <td>0.22500</td>\n",
       "      <td>0.03500</td>\n",
       "      <td>0.23500</td>\n",
       "      <td>2.45700</td>\n",
       "      <td>2019</td>\n",
       "    </tr>\n",
       "    <tr>\n",
       "      <th>781</th>\n",
       "      <td>South Sudan</td>\n",
       "      <td>Sub-Saharan Africa</td>\n",
       "      <td>156</td>\n",
       "      <td>2.853</td>\n",
       "      <td>0.30600</td>\n",
       "      <td>0.57500</td>\n",
       "      <td>0.29500</td>\n",
       "      <td>0.01000</td>\n",
       "      <td>0.09100</td>\n",
       "      <td>0.20200</td>\n",
       "      <td>1.37400</td>\n",
       "      <td>2019</td>\n",
       "    </tr>\n",
       "  </tbody>\n",
       "</table>\n",
       "<p>782 rows × 12 columns</p>\n",
       "</div>"
      ],
      "text/plain": [
       "                      Country              Region  Happiness Rank  \\\n",
       "0                 Switzerland      Western Europe               1   \n",
       "1                     Iceland      Western Europe               2   \n",
       "2                     Denmark      Western Europe               3   \n",
       "3                      Norway      Western Europe               4   \n",
       "4                      Canada       North America               5   \n",
       "..                        ...                 ...             ...   \n",
       "777                    Rwanda  Sub-Saharan Africa             152   \n",
       "778                  Tanzania  Sub-Saharan Africa             153   \n",
       "779               Afghanistan       Southern Asia             154   \n",
       "780  Central African Republic  Sub-Saharan Africa             155   \n",
       "781               South Sudan  Sub-Saharan Africa             156   \n",
       "\n",
       "     Happiness Score  GDP per capita  Social support  Healthy life expectancy  \\\n",
       "0              7.587         1.39651         1.34951                  0.94143   \n",
       "1              7.561         1.30232         1.40223                  0.94784   \n",
       "2              7.527         1.32548         1.36058                  0.87464   \n",
       "3              7.522         1.45900         1.33095                  0.88521   \n",
       "4              7.427         1.32629         1.32261                  0.90563   \n",
       "..               ...             ...             ...                      ...   \n",
       "777            3.334         0.35900         0.71100                  0.61400   \n",
       "778            3.231         0.47600         0.88500                  0.49900   \n",
       "779            3.203         0.35000         0.51700                  0.36100   \n",
       "780            3.083         0.02600         0.00000                  0.10500   \n",
       "781            2.853         0.30600         0.57500                  0.29500   \n",
       "\n",
       "     Freedom  Perceptions of corruption  Generosity  Dystopia Residual  Year  \n",
       "0    0.66557                    0.41978     0.29678            2.51738  2015  \n",
       "1    0.62877                    0.14145     0.43630            2.70201  2015  \n",
       "2    0.64938                    0.48357     0.34139            2.49204  2015  \n",
       "3    0.66973                    0.36503     0.34699            2.46531  2015  \n",
       "4    0.63297                    0.32957     0.45811            2.45176  2015  \n",
       "..       ...                        ...         ...                ...   ...  \n",
       "777  0.55500                    0.41100     0.21700            0.46700  2019  \n",
       "778  0.41700                    0.14700     0.27600            0.53100  2019  \n",
       "779  0.00000                    0.02500     0.15800            1.79200  2019  \n",
       "780  0.22500                    0.03500     0.23500            2.45700  2019  \n",
       "781  0.01000                    0.09100     0.20200            1.37400  2019  \n",
       "\n",
       "[782 rows x 12 columns]"
      ]
     },
     "execution_count": 14,
     "metadata": {},
     "output_type": "execute_result"
    }
   ],
   "source": [
    "def fill_region(group):\n",
    "    row = group.dropna()\n",
    "    top = row.iloc[0] if row.shape[0]> 0 else np.nan\n",
    "    return group.fillna(top)\n",
    "    \n",
    "    \n",
    "df['Region'] = df['Region'].groupby(df['Country']).transform(fill_region)\n",
    "df"
   ]
  },
  {
   "cell_type": "markdown",
   "id": "a33d0e51",
   "metadata": {},
   "source": [
    "## <font color='blue'>Inspecting the remaining null regions:</font>"
   ]
  },
  {
   "cell_type": "code",
   "execution_count": 15,
   "id": "4305297c",
   "metadata": {
    "scrolled": true
   },
   "outputs": [
    {
     "data": {
      "text/html": [
       "<div>\n",
       "<style scoped>\n",
       "    .dataframe tbody tr th:only-of-type {\n",
       "        vertical-align: middle;\n",
       "    }\n",
       "\n",
       "    .dataframe tbody tr th {\n",
       "        vertical-align: top;\n",
       "    }\n",
       "\n",
       "    .dataframe thead th {\n",
       "        text-align: right;\n",
       "    }\n",
       "</style>\n",
       "<table border=\"1\" class=\"dataframe\">\n",
       "  <thead>\n",
       "    <tr style=\"text-align: right;\">\n",
       "      <th></th>\n",
       "      <th>Country</th>\n",
       "      <th>Region</th>\n",
       "      <th>Happiness Rank</th>\n",
       "      <th>Happiness Score</th>\n",
       "      <th>GDP per capita</th>\n",
       "      <th>Social support</th>\n",
       "      <th>Healthy life expectancy</th>\n",
       "      <th>Freedom</th>\n",
       "      <th>Perceptions of corruption</th>\n",
       "      <th>Generosity</th>\n",
       "      <th>Dystopia Residual</th>\n",
       "      <th>Year</th>\n",
       "    </tr>\n",
       "  </thead>\n",
       "  <tbody>\n",
       "    <tr>\n",
       "      <th>347</th>\n",
       "      <td>Taiwan Province of China</td>\n",
       "      <td>NaN</td>\n",
       "      <td>33</td>\n",
       "      <td>6.422</td>\n",
       "      <td>1.433627</td>\n",
       "      <td>1.384565</td>\n",
       "      <td>0.793984</td>\n",
       "      <td>0.361467</td>\n",
       "      <td>0.063829</td>\n",
       "      <td>0.258360</td>\n",
       "      <td>2.126607</td>\n",
       "      <td>2017</td>\n",
       "    </tr>\n",
       "    <tr>\n",
       "      <th>385</th>\n",
       "      <td>Hong Kong S.A.R., China</td>\n",
       "      <td>NaN</td>\n",
       "      <td>71</td>\n",
       "      <td>5.472</td>\n",
       "      <td>1.551675</td>\n",
       "      <td>1.262791</td>\n",
       "      <td>0.943062</td>\n",
       "      <td>0.490969</td>\n",
       "      <td>0.293934</td>\n",
       "      <td>0.374466</td>\n",
       "      <td>0.554633</td>\n",
       "      <td>2017</td>\n",
       "    </tr>\n",
       "    <tr>\n",
       "      <th>507</th>\n",
       "      <td>Trinidad &amp; Tobago</td>\n",
       "      <td>NaN</td>\n",
       "      <td>38</td>\n",
       "      <td>6.192</td>\n",
       "      <td>1.223000</td>\n",
       "      <td>1.492000</td>\n",
       "      <td>0.564000</td>\n",
       "      <td>0.575000</td>\n",
       "      <td>0.019000</td>\n",
       "      <td>0.171000</td>\n",
       "      <td>2.148000</td>\n",
       "      <td>2018</td>\n",
       "    </tr>\n",
       "    <tr>\n",
       "      <th>527</th>\n",
       "      <td>Northern Cyprus</td>\n",
       "      <td>NaN</td>\n",
       "      <td>58</td>\n",
       "      <td>5.835</td>\n",
       "      <td>1.229000</td>\n",
       "      <td>1.211000</td>\n",
       "      <td>0.909000</td>\n",
       "      <td>0.495000</td>\n",
       "      <td>0.154000</td>\n",
       "      <td>0.179000</td>\n",
       "      <td>1.658000</td>\n",
       "      <td>2018</td>\n",
       "    </tr>\n",
       "    <tr>\n",
       "      <th>664</th>\n",
       "      <td>Trinidad &amp; Tobago</td>\n",
       "      <td>NaN</td>\n",
       "      <td>39</td>\n",
       "      <td>6.192</td>\n",
       "      <td>1.231000</td>\n",
       "      <td>1.477000</td>\n",
       "      <td>0.713000</td>\n",
       "      <td>0.489000</td>\n",
       "      <td>0.016000</td>\n",
       "      <td>0.185000</td>\n",
       "      <td>2.081000</td>\n",
       "      <td>2019</td>\n",
       "    </tr>\n",
       "    <tr>\n",
       "      <th>689</th>\n",
       "      <td>Northern Cyprus</td>\n",
       "      <td>NaN</td>\n",
       "      <td>64</td>\n",
       "      <td>5.718</td>\n",
       "      <td>1.263000</td>\n",
       "      <td>1.252000</td>\n",
       "      <td>1.042000</td>\n",
       "      <td>0.417000</td>\n",
       "      <td>0.162000</td>\n",
       "      <td>0.191000</td>\n",
       "      <td>1.391000</td>\n",
       "      <td>2019</td>\n",
       "    </tr>\n",
       "    <tr>\n",
       "      <th>709</th>\n",
       "      <td>North Macedonia</td>\n",
       "      <td>NaN</td>\n",
       "      <td>84</td>\n",
       "      <td>5.274</td>\n",
       "      <td>0.983000</td>\n",
       "      <td>1.294000</td>\n",
       "      <td>0.838000</td>\n",
       "      <td>0.345000</td>\n",
       "      <td>0.034000</td>\n",
       "      <td>0.185000</td>\n",
       "      <td>1.595000</td>\n",
       "      <td>2019</td>\n",
       "    </tr>\n",
       "    <tr>\n",
       "      <th>745</th>\n",
       "      <td>Gambia</td>\n",
       "      <td>NaN</td>\n",
       "      <td>120</td>\n",
       "      <td>4.516</td>\n",
       "      <td>0.308000</td>\n",
       "      <td>0.939000</td>\n",
       "      <td>0.428000</td>\n",
       "      <td>0.382000</td>\n",
       "      <td>0.167000</td>\n",
       "      <td>0.269000</td>\n",
       "      <td>2.023000</td>\n",
       "      <td>2019</td>\n",
       "    </tr>\n",
       "  </tbody>\n",
       "</table>\n",
       "</div>"
      ],
      "text/plain": [
       "                      Country Region  Happiness Rank  Happiness Score  \\\n",
       "347  Taiwan Province of China    NaN              33            6.422   \n",
       "385   Hong Kong S.A.R., China    NaN              71            5.472   \n",
       "507         Trinidad & Tobago    NaN              38            6.192   \n",
       "527           Northern Cyprus    NaN              58            5.835   \n",
       "664         Trinidad & Tobago    NaN              39            6.192   \n",
       "689           Northern Cyprus    NaN              64            5.718   \n",
       "709           North Macedonia    NaN              84            5.274   \n",
       "745                    Gambia    NaN             120            4.516   \n",
       "\n",
       "     GDP per capita  Social support  Healthy life expectancy   Freedom  \\\n",
       "347        1.433627        1.384565                 0.793984  0.361467   \n",
       "385        1.551675        1.262791                 0.943062  0.490969   \n",
       "507        1.223000        1.492000                 0.564000  0.575000   \n",
       "527        1.229000        1.211000                 0.909000  0.495000   \n",
       "664        1.231000        1.477000                 0.713000  0.489000   \n",
       "689        1.263000        1.252000                 1.042000  0.417000   \n",
       "709        0.983000        1.294000                 0.838000  0.345000   \n",
       "745        0.308000        0.939000                 0.428000  0.382000   \n",
       "\n",
       "     Perceptions of corruption  Generosity  Dystopia Residual  Year  \n",
       "347                   0.063829    0.258360           2.126607  2017  \n",
       "385                   0.293934    0.374466           0.554633  2017  \n",
       "507                   0.019000    0.171000           2.148000  2018  \n",
       "527                   0.154000    0.179000           1.658000  2018  \n",
       "664                   0.016000    0.185000           2.081000  2019  \n",
       "689                   0.162000    0.191000           1.391000  2019  \n",
       "709                   0.034000    0.185000           1.595000  2019  \n",
       "745                   0.167000    0.269000           2.023000  2019  "
      ]
     },
     "execution_count": 15,
     "metadata": {},
     "output_type": "execute_result"
    }
   ],
   "source": [
    "df[df['Region'].isna()]"
   ]
  },
  {
   "cell_type": "markdown",
   "id": "92b2c032",
   "metadata": {},
   "source": [
    "- ### <font color='green'>There are some null regions due to different reasons:\n",
    "     - Same countries have different names for example (\"Taiwan Province of China\" is the same as \"Taiwan\").\n",
    "     - There are some newly added countries in later years like Gambia.</font>"
   ]
  },
  {
   "cell_type": "markdown",
   "id": "536c3180",
   "metadata": {},
   "source": [
    "## <font color='blue'>Specifying the regions of the remaining null values by their geographical locations:</font>"
   ]
  },
  {
   "cell_type": "code",
   "execution_count": 16,
   "id": "2fa29613",
   "metadata": {},
   "outputs": [],
   "source": [
    "df.loc[df['Country'] == \"Hong Kong S.A.R., China\",'Region'] = \"Eastern Asia\"\n",
    "df.loc[df['Country'] == \"Taiwan Province of China\",'Region'] = \"Eastern Asia\"\n",
    "df.loc[df['Country'] == \"Trinidad & Tobago\",'Region'] = \"Latin America and Caribbean\"\n",
    "df.loc[df['Country'] == \"Northern Cyprus\",'Region'] = \"Middle East and Northern Africa\"\n",
    "df.loc[df['Country'] == \"Trinidad & Tobago\",'Region'] = \"Latin America and Caribbean\"\n",
    "df.loc[df['Country'] == \"Northern Cyprus\",'Region'] = \"Middle East and Northern Africa\"\n",
    "df.loc[df['Country'] == \"North Macedonia\",'Region'] = \"Central and Eastern Europe\"\n",
    "df.loc[df['Country'] == \"Gambia\",'Region'] = \"Sub-Saharan Africa\""
   ]
  },
  {
   "cell_type": "markdown",
   "id": "9ca46e3e",
   "metadata": {},
   "source": [
    "## <font color='blue'>Correcting country name inconsistancies by uniting their names:</font>"
   ]
  },
  {
   "cell_type": "code",
   "execution_count": 17,
   "id": "758639b6",
   "metadata": {},
   "outputs": [],
   "source": [
    "df.loc[df['Country'] == \"Hong Kong S.A.R., China\",'Country'] = \"Hong Kong\" \n",
    "df.loc[df['Country'] == \"Taiwan Province of China\",'Country'] = \"Taiwan\" "
   ]
  },
  {
   "cell_type": "markdown",
   "id": "9125e7c9",
   "metadata": {},
   "source": [
    "## <font color='blue'>There are no more null regions</font>"
   ]
  },
  {
   "cell_type": "code",
   "execution_count": 18,
   "id": "0e8719ec",
   "metadata": {
    "scrolled": true
   },
   "outputs": [
    {
     "data": {
      "text/plain": [
       "False"
      ]
     },
     "execution_count": 18,
     "metadata": {},
     "output_type": "execute_result"
    }
   ],
   "source": [
    "df['Region'].isna().any()"
   ]
  },
  {
   "cell_type": "markdown",
   "id": "af05d005",
   "metadata": {},
   "source": [
    "## <font color='blue'>From a previous analysis, there were two null values (\"Perceptions of corruption\" and \"Dystopia Residual\") from the 2018 datafram. Identifying this observation to analyze:</font>"
   ]
  },
  {
   "cell_type": "code",
   "execution_count": 19,
   "id": "f4305ff1",
   "metadata": {
    "scrolled": false
   },
   "outputs": [
    {
     "data": {
      "text/html": [
       "<div>\n",
       "<style scoped>\n",
       "    .dataframe tbody tr th:only-of-type {\n",
       "        vertical-align: middle;\n",
       "    }\n",
       "\n",
       "    .dataframe tbody tr th {\n",
       "        vertical-align: top;\n",
       "    }\n",
       "\n",
       "    .dataframe thead th {\n",
       "        text-align: right;\n",
       "    }\n",
       "</style>\n",
       "<table border=\"1\" class=\"dataframe\">\n",
       "  <thead>\n",
       "    <tr style=\"text-align: right;\">\n",
       "      <th></th>\n",
       "      <th>Country</th>\n",
       "      <th>Region</th>\n",
       "      <th>Happiness Rank</th>\n",
       "      <th>Happiness Score</th>\n",
       "      <th>GDP per capita</th>\n",
       "      <th>Social support</th>\n",
       "      <th>Healthy life expectancy</th>\n",
       "      <th>Freedom</th>\n",
       "      <th>Perceptions of corruption</th>\n",
       "      <th>Generosity</th>\n",
       "      <th>Dystopia Residual</th>\n",
       "      <th>Year</th>\n",
       "    </tr>\n",
       "  </thead>\n",
       "  <tbody>\n",
       "    <tr>\n",
       "      <th>489</th>\n",
       "      <td>United Arab Emirates</td>\n",
       "      <td>Middle East and Northern Africa</td>\n",
       "      <td>20</td>\n",
       "      <td>6.774</td>\n",
       "      <td>2.096</td>\n",
       "      <td>0.776</td>\n",
       "      <td>0.67</td>\n",
       "      <td>0.284</td>\n",
       "      <td>NaN</td>\n",
       "      <td>0.186</td>\n",
       "      <td>NaN</td>\n",
       "      <td>2018</td>\n",
       "    </tr>\n",
       "  </tbody>\n",
       "</table>\n",
       "</div>"
      ],
      "text/plain": [
       "                  Country                           Region  Happiness Rank  \\\n",
       "489  United Arab Emirates  Middle East and Northern Africa              20   \n",
       "\n",
       "     Happiness Score  GDP per capita  Social support  Healthy life expectancy  \\\n",
       "489            6.774           2.096           0.776                     0.67   \n",
       "\n",
       "     Freedom  Perceptions of corruption  Generosity  Dystopia Residual  Year  \n",
       "489    0.284                        NaN       0.186                NaN  2018  "
      ]
     },
     "execution_count": 19,
     "metadata": {},
     "output_type": "execute_result"
    }
   ],
   "source": [
    "df[df['Perceptions of corruption'].isna()]"
   ]
  },
  {
   "cell_type": "markdown",
   "id": "3f5e7337",
   "metadata": {},
   "source": [
    "- ### <font color='green'>Both missing values belong in the same observation.</font> \n",
    "## <font color='blue'>Inspecting similar observations from different years to use their existing information to fill in the missing values.</font>"
   ]
  },
  {
   "cell_type": "code",
   "execution_count": 20,
   "id": "c6b0ca6a",
   "metadata": {},
   "outputs": [
    {
     "data": {
      "text/html": [
       "<div>\n",
       "<style scoped>\n",
       "    .dataframe tbody tr th:only-of-type {\n",
       "        vertical-align: middle;\n",
       "    }\n",
       "\n",
       "    .dataframe tbody tr th {\n",
       "        vertical-align: top;\n",
       "    }\n",
       "\n",
       "    .dataframe thead th {\n",
       "        text-align: right;\n",
       "    }\n",
       "</style>\n",
       "<table border=\"1\" class=\"dataframe\">\n",
       "  <thead>\n",
       "    <tr style=\"text-align: right;\">\n",
       "      <th></th>\n",
       "      <th>Country</th>\n",
       "      <th>Region</th>\n",
       "      <th>Happiness Rank</th>\n",
       "      <th>Happiness Score</th>\n",
       "      <th>GDP per capita</th>\n",
       "      <th>Social support</th>\n",
       "      <th>Healthy life expectancy</th>\n",
       "      <th>Freedom</th>\n",
       "      <th>Perceptions of corruption</th>\n",
       "      <th>Generosity</th>\n",
       "      <th>Dystopia Residual</th>\n",
       "      <th>Year</th>\n",
       "    </tr>\n",
       "  </thead>\n",
       "  <tbody>\n",
       "    <tr>\n",
       "      <th>19</th>\n",
       "      <td>United Arab Emirates</td>\n",
       "      <td>Middle East and Northern Africa</td>\n",
       "      <td>20</td>\n",
       "      <td>6.901</td>\n",
       "      <td>1.427270</td>\n",
       "      <td>1.12575</td>\n",
       "      <td>0.809250</td>\n",
       "      <td>0.641570</td>\n",
       "      <td>0.38583</td>\n",
       "      <td>0.264280</td>\n",
       "      <td>2.247430</td>\n",
       "      <td>2015</td>\n",
       "    </tr>\n",
       "    <tr>\n",
       "      <th>185</th>\n",
       "      <td>United Arab Emirates</td>\n",
       "      <td>Middle East and Northern Africa</td>\n",
       "      <td>28</td>\n",
       "      <td>6.573</td>\n",
       "      <td>1.573520</td>\n",
       "      <td>0.87114</td>\n",
       "      <td>0.729930</td>\n",
       "      <td>0.562150</td>\n",
       "      <td>0.35561</td>\n",
       "      <td>0.265910</td>\n",
       "      <td>2.215070</td>\n",
       "      <td>2016</td>\n",
       "    </tr>\n",
       "    <tr>\n",
       "      <th>335</th>\n",
       "      <td>United Arab Emirates</td>\n",
       "      <td>Middle East and Northern Africa</td>\n",
       "      <td>21</td>\n",
       "      <td>6.648</td>\n",
       "      <td>1.626343</td>\n",
       "      <td>1.26641</td>\n",
       "      <td>0.726798</td>\n",
       "      <td>0.608345</td>\n",
       "      <td>0.32449</td>\n",
       "      <td>0.360942</td>\n",
       "      <td>1.734704</td>\n",
       "      <td>2017</td>\n",
       "    </tr>\n",
       "    <tr>\n",
       "      <th>489</th>\n",
       "      <td>United Arab Emirates</td>\n",
       "      <td>Middle East and Northern Africa</td>\n",
       "      <td>20</td>\n",
       "      <td>6.774</td>\n",
       "      <td>2.096000</td>\n",
       "      <td>0.77600</td>\n",
       "      <td>0.670000</td>\n",
       "      <td>0.284000</td>\n",
       "      <td>NaN</td>\n",
       "      <td>0.186000</td>\n",
       "      <td>NaN</td>\n",
       "      <td>2018</td>\n",
       "    </tr>\n",
       "    <tr>\n",
       "      <th>646</th>\n",
       "      <td>United Arab Emirates</td>\n",
       "      <td>Middle East and Northern Africa</td>\n",
       "      <td>21</td>\n",
       "      <td>6.825</td>\n",
       "      <td>1.503000</td>\n",
       "      <td>1.31000</td>\n",
       "      <td>0.825000</td>\n",
       "      <td>0.598000</td>\n",
       "      <td>0.18200</td>\n",
       "      <td>0.262000</td>\n",
       "      <td>2.145000</td>\n",
       "      <td>2019</td>\n",
       "    </tr>\n",
       "  </tbody>\n",
       "</table>\n",
       "</div>"
      ],
      "text/plain": [
       "                  Country                           Region  Happiness Rank  \\\n",
       "19   United Arab Emirates  Middle East and Northern Africa              20   \n",
       "185  United Arab Emirates  Middle East and Northern Africa              28   \n",
       "335  United Arab Emirates  Middle East and Northern Africa              21   \n",
       "489  United Arab Emirates  Middle East and Northern Africa              20   \n",
       "646  United Arab Emirates  Middle East and Northern Africa              21   \n",
       "\n",
       "     Happiness Score  GDP per capita  Social support  Healthy life expectancy  \\\n",
       "19             6.901        1.427270         1.12575                 0.809250   \n",
       "185            6.573        1.573520         0.87114                 0.729930   \n",
       "335            6.648        1.626343         1.26641                 0.726798   \n",
       "489            6.774        2.096000         0.77600                 0.670000   \n",
       "646            6.825        1.503000         1.31000                 0.825000   \n",
       "\n",
       "      Freedom  Perceptions of corruption  Generosity  Dystopia Residual  Year  \n",
       "19   0.641570                    0.38583    0.264280           2.247430  2015  \n",
       "185  0.562150                    0.35561    0.265910           2.215070  2016  \n",
       "335  0.608345                    0.32449    0.360942           1.734704  2017  \n",
       "489  0.284000                        NaN    0.186000                NaN  2018  \n",
       "646  0.598000                    0.18200    0.262000           2.145000  2019  "
      ]
     },
     "execution_count": 20,
     "metadata": {},
     "output_type": "execute_result"
    }
   ],
   "source": [
    "df[df[\"Country\"]==\"United Arab Emirates\"]"
   ]
  },
  {
   "cell_type": "markdown",
   "id": "e1d1d142",
   "metadata": {},
   "source": [
    "## <font color='blue'>The 2018 United Arab Emirates Perceptions of corruption value can be computed from the mean of the same values in the other years.</font>"
   ]
  },
  {
   "cell_type": "code",
   "execution_count": 21,
   "id": "c76c057c",
   "metadata": {},
   "outputs": [
    {
     "data": {
      "text/plain": [
       "0.3119823909258842"
      ]
     },
     "execution_count": 21,
     "metadata": {},
     "output_type": "execute_result"
    }
   ],
   "source": [
    "percept_avg = df.loc[(df['Year'] != 2018) & (df['Country'] == \"United Arab Emirates\"), 'Perceptions of corruption'].mean()\n",
    "df.at[489, 'Perceptions of corruption'] = percept_avg\n",
    "percept_avg"
   ]
  },
  {
   "cell_type": "markdown",
   "id": "20cafe6c",
   "metadata": {},
   "source": [
    "## <font color='blue'>Now that all values exist except one (Dystopia Residual), we can subtract the summation of the remainig features from the \"Score\" to find its value.</font>"
   ]
  },
  {
   "cell_type": "code",
   "execution_count": 22,
   "id": "cf419515",
   "metadata": {},
   "outputs": [
    {
     "data": {
      "text/plain": [
       "2.4500176090741164"
      ]
     },
     "execution_count": 22,
     "metadata": {},
     "output_type": "execute_result"
    }
   ],
   "source": [
    "dystopia_value = df.at[489, 'Happiness Score'] - (df.at[489, 'GDP per capita']+ df.at[489, 'Social support'] + df.at[489, 'Healthy life expectancy'] + df.at[489, 'Freedom'] +df.at[489, 'Perceptions of corruption'] + df.at[489, 'Generosity'])\n",
    "df.at[489, 'Dystopia Residual'] = dystopia_value\n",
    "dystopia_value"
   ]
  },
  {
   "cell_type": "code",
   "execution_count": 23,
   "id": "c770fb08",
   "metadata": {},
   "outputs": [
    {
     "data": {
      "text/html": [
       "<div>\n",
       "<style scoped>\n",
       "    .dataframe tbody tr th:only-of-type {\n",
       "        vertical-align: middle;\n",
       "    }\n",
       "\n",
       "    .dataframe tbody tr th {\n",
       "        vertical-align: top;\n",
       "    }\n",
       "\n",
       "    .dataframe thead th {\n",
       "        text-align: right;\n",
       "    }\n",
       "</style>\n",
       "<table border=\"1\" class=\"dataframe\">\n",
       "  <thead>\n",
       "    <tr style=\"text-align: right;\">\n",
       "      <th></th>\n",
       "      <th>Country</th>\n",
       "      <th>Region</th>\n",
       "      <th>Happiness Rank</th>\n",
       "      <th>Happiness Score</th>\n",
       "      <th>GDP per capita</th>\n",
       "      <th>Social support</th>\n",
       "      <th>Healthy life expectancy</th>\n",
       "      <th>Freedom</th>\n",
       "      <th>Perceptions of corruption</th>\n",
       "      <th>Generosity</th>\n",
       "      <th>Dystopia Residual</th>\n",
       "      <th>Year</th>\n",
       "    </tr>\n",
       "  </thead>\n",
       "  <tbody>\n",
       "    <tr>\n",
       "      <th>19</th>\n",
       "      <td>United Arab Emirates</td>\n",
       "      <td>Middle East and Northern Africa</td>\n",
       "      <td>20</td>\n",
       "      <td>6.901</td>\n",
       "      <td>1.427270</td>\n",
       "      <td>1.12575</td>\n",
       "      <td>0.809250</td>\n",
       "      <td>0.641570</td>\n",
       "      <td>0.385830</td>\n",
       "      <td>0.264280</td>\n",
       "      <td>2.247430</td>\n",
       "      <td>2015</td>\n",
       "    </tr>\n",
       "    <tr>\n",
       "      <th>185</th>\n",
       "      <td>United Arab Emirates</td>\n",
       "      <td>Middle East and Northern Africa</td>\n",
       "      <td>28</td>\n",
       "      <td>6.573</td>\n",
       "      <td>1.573520</td>\n",
       "      <td>0.87114</td>\n",
       "      <td>0.729930</td>\n",
       "      <td>0.562150</td>\n",
       "      <td>0.355610</td>\n",
       "      <td>0.265910</td>\n",
       "      <td>2.215070</td>\n",
       "      <td>2016</td>\n",
       "    </tr>\n",
       "    <tr>\n",
       "      <th>335</th>\n",
       "      <td>United Arab Emirates</td>\n",
       "      <td>Middle East and Northern Africa</td>\n",
       "      <td>21</td>\n",
       "      <td>6.648</td>\n",
       "      <td>1.626343</td>\n",
       "      <td>1.26641</td>\n",
       "      <td>0.726798</td>\n",
       "      <td>0.608345</td>\n",
       "      <td>0.324490</td>\n",
       "      <td>0.360942</td>\n",
       "      <td>1.734704</td>\n",
       "      <td>2017</td>\n",
       "    </tr>\n",
       "    <tr>\n",
       "      <th>489</th>\n",
       "      <td>United Arab Emirates</td>\n",
       "      <td>Middle East and Northern Africa</td>\n",
       "      <td>20</td>\n",
       "      <td>6.774</td>\n",
       "      <td>2.096000</td>\n",
       "      <td>0.77600</td>\n",
       "      <td>0.670000</td>\n",
       "      <td>0.284000</td>\n",
       "      <td>0.311982</td>\n",
       "      <td>0.186000</td>\n",
       "      <td>2.450018</td>\n",
       "      <td>2018</td>\n",
       "    </tr>\n",
       "    <tr>\n",
       "      <th>646</th>\n",
       "      <td>United Arab Emirates</td>\n",
       "      <td>Middle East and Northern Africa</td>\n",
       "      <td>21</td>\n",
       "      <td>6.825</td>\n",
       "      <td>1.503000</td>\n",
       "      <td>1.31000</td>\n",
       "      <td>0.825000</td>\n",
       "      <td>0.598000</td>\n",
       "      <td>0.182000</td>\n",
       "      <td>0.262000</td>\n",
       "      <td>2.145000</td>\n",
       "      <td>2019</td>\n",
       "    </tr>\n",
       "  </tbody>\n",
       "</table>\n",
       "</div>"
      ],
      "text/plain": [
       "                  Country                           Region  Happiness Rank  \\\n",
       "19   United Arab Emirates  Middle East and Northern Africa              20   \n",
       "185  United Arab Emirates  Middle East and Northern Africa              28   \n",
       "335  United Arab Emirates  Middle East and Northern Africa              21   \n",
       "489  United Arab Emirates  Middle East and Northern Africa              20   \n",
       "646  United Arab Emirates  Middle East and Northern Africa              21   \n",
       "\n",
       "     Happiness Score  GDP per capita  Social support  Healthy life expectancy  \\\n",
       "19             6.901        1.427270         1.12575                 0.809250   \n",
       "185            6.573        1.573520         0.87114                 0.729930   \n",
       "335            6.648        1.626343         1.26641                 0.726798   \n",
       "489            6.774        2.096000         0.77600                 0.670000   \n",
       "646            6.825        1.503000         1.31000                 0.825000   \n",
       "\n",
       "      Freedom  Perceptions of corruption  Generosity  Dystopia Residual  Year  \n",
       "19   0.641570                   0.385830    0.264280           2.247430  2015  \n",
       "185  0.562150                   0.355610    0.265910           2.215070  2016  \n",
       "335  0.608345                   0.324490    0.360942           1.734704  2017  \n",
       "489  0.284000                   0.311982    0.186000           2.450018  2018  \n",
       "646  0.598000                   0.182000    0.262000           2.145000  2019  "
      ]
     },
     "execution_count": 23,
     "metadata": {},
     "output_type": "execute_result"
    }
   ],
   "source": [
    "df[df[\"Country\"]==\"United Arab Emirates\"]"
   ]
  },
  {
   "cell_type": "markdown",
   "id": "3973cfa8",
   "metadata": {},
   "source": [
    "# <font color='red'>Now, the data should be clean and we can start with data visualization and analysis!</font>"
   ]
  },
  {
   "cell_type": "markdown",
   "id": "af67b4d8",
   "metadata": {},
   "source": [
    "## <font color='blue'>Which region has the highest happiness score, and which has the lowest?</font>"
   ]
  },
  {
   "cell_type": "code",
   "execution_count": 24,
   "id": "e50ecc61",
   "metadata": {
    "scrolled": false
   },
   "outputs": [
    {
     "name": "stdout",
     "output_type": "stream",
     "text": [
      "Region with highest happiness score: Region             Australia and New Zealand\n",
      "Happiness Score                       7.2946\n",
      "Name: 0, dtype: object\n",
      "Region with lowest happiness score: Region             Sub-Saharan Africa\n",
      "Happiness Score              4.190153\n",
      "Name: 8, dtype: object\n"
     ]
    }
   ],
   "source": [
    "#grouping the data by region then finding the mean\n",
    "grouped_region_happiness = df.groupby('Region')['Happiness Score'].mean().reset_index()\n",
    "\n",
    "#getting regions with the max and min scores\n",
    "highest = grouped_region_happiness.loc[grouped_region_happiness['Happiness Score'].idxmax()]\n",
    "lowest = grouped_region_happiness.loc[grouped_region_happiness['Happiness Score'].idxmin()]\n",
    "\n",
    "print(\"Region with highest happiness score:\", highest)\n",
    "print(\"Region with lowest happiness score:\", lowest)\n",
    "\n"
   ]
  },
  {
   "cell_type": "markdown",
   "id": "5646c737",
   "metadata": {},
   "source": [
    "### <font color='green'>The highest average happiness score is 7.29 in the Australia and New Zealand region, this means they are the happiest region recorded. And the Sub-Saharan Africa region is the least happy having the lowest happines score average of 4.19.</font> \n",
    "\n",
    "### <font color='purple'> We can visualize this through a bar graph</font> "
   ]
  },
  {
   "cell_type": "code",
   "execution_count": 25,
   "id": "3354b120",
   "metadata": {},
   "outputs": [
    {
     "data": {
      "image/png": "[encoded data removed]",
      "text/plain": [
       "<Figure size 1800x800 with 1 Axes>"
      ]
     },
     "metadata": {},
     "output_type": "display_data"
    }
   ],
   "source": [
    "#plotting the bar graph\n",
    "plt.figure(figsize=(18, 8))\n",
    "sns.barplot(data=grouped_region_happiness, x='Happiness Score', y='Region')\n",
    "plt.title('Average Happiness Score by Region')\n",
    "plt.show()"
   ]
  },
  {
   "cell_type": "markdown",
   "id": "e67999b2",
   "metadata": {},
   "source": [
    "### <font color='green'>The bar graph shows that the region \"Australia and New Zealand\" has the longest score bar reaching 7.3 and beating \"North America\", which makes it the happiest region. On the other hand, \"Sub-Saharan Africa\" has the shortest score bar making it the obvious least happy region with score 4.2.</font> "
   ]
  },
  {
   "cell_type": "markdown",
   "id": "20eb177f",
   "metadata": {},
   "source": [
    "## <font color='blue'>Which regions have countries with extreme (outliers) happiness scores? Find the regions and the countries.</font>"
   ]
  },
  {
   "cell_type": "code",
   "execution_count": 26,
   "id": "ae7a128f",
   "metadata": {},
   "outputs": [
    {
     "data": {
      "image/png": "[encoded data removed]",
      "text/plain": [
       "<Figure size 1200x600 with 1 Axes>"
      ]
     },
     "metadata": {},
     "output_type": "display_data"
    }
   ],
   "source": [
    "grouped = df.groupby(['Region','Country'])['Happiness Score'].mean().reset_index()\n",
    "\n",
    "\n",
    "# Box Plot\n",
    "plt.figure(figsize=(12, 6))\n",
    "sns.boxplot(y='Region', x='Happiness Score', data=grouped)\n",
    "plt.title('Happiness Score Distribution by Region')\n",
    "plt.show()"
   ]
  },
  {
   "cell_type": "markdown",
   "id": "4d058a80",
   "metadata": {},
   "source": [
    "### <font color='green'>The Box plots show that \"Latin America and Caribbean\" region has an outlier country which has extremely low happiness scorein compare to the other countries in that region. Also, the blox plot of the \"Sub-Saharan Africa\" region has one outlier country which is way happier than the other countries in that region.</font>\n",
    "\n",
    "### <font color='purple'> We can find these outlier countries and their corresponding average happiness scores by finding the wiskers bound and determinig which country has an average happiness score out of this bound</font> "
   ]
  },
  {
   "cell_type": "code",
   "execution_count": 27,
   "id": "6b586174",
   "metadata": {},
   "outputs": [
    {
     "name": "stdout",
     "output_type": "stream",
     "text": [
      "***Outliers in Latin America and Caribbean***\n",
      "                         Region Country  Happiness Score\n",
      "49  Latin America and Caribbean   Haiti           3.8656\n",
      "\n",
      "***Outliers in Sub-Saharan Africa***\n",
      "                 Region    Country  Happiness Score\n",
      "127  Sub-Saharan Africa  Mauritius           5.7066\n"
     ]
    }
   ],
   "source": [
    "# this function finds the outliers in a given region\n",
    "def get_outliers(data):\n",
    "    #finding first and third Q\n",
    "    Q1 = data['Happiness Score'].quantile(0.25)\n",
    "    Q3 = data['Happiness Score'].quantile(0.75)\n",
    "    #finding range\n",
    "    IQR = Q3 - Q1\n",
    "    #calculating outlire bounds\n",
    "    lower_bound = Q1 - 1.5 * IQR\n",
    "    upper_bound = Q3 + 1.5 * IQR\n",
    "    # returning countries out of range\n",
    "    return data[(data['Happiness Score'] < lower_bound) | (data['Happiness Score'] > upper_bound)]\n",
    "\n",
    "# getting the grouped data for Latin America and Caribbean region only then calling method\n",
    "region_LAC = grouped[grouped['Region'] == 'Latin America and Caribbean']\n",
    "LAC_outliers = get_outliers(region_LAC)\n",
    "\n",
    "# getting the grouped data for Sub-Saharan Africa region only then calling method\n",
    "region_SSA = grouped[grouped['Region'] == 'Sub-Saharan Africa']\n",
    "SSA_outliers = get_outliers(region_SSA)\n",
    "\n",
    "# displaying the outliers\n",
    "print(\"***Outliers in Latin America and Caribbean***\")\n",
    "print(LAC_outliers)\n",
    "\n",
    "print(\"\\n***Outliers in Sub-Saharan Africa***\")\n",
    "print(SSA_outliers)"
   ]
  },
  {
   "cell_type": "markdown",
   "id": "843060fe",
   "metadata": {},
   "source": [
    "### <font color='green'>The outlier country in \"Latin America and Caribbean\" region is Haiti with an average happiness score of 3.8656. This shows that Haiti citizens are very unhappy in compare to other countries in that region. The outlier country in \"Sub-Saharan Africa\" region is Maurtius with an average happiness score of 5.7066. THis country has very happy citizens in compare to the rest of the region.</font>\n",
    "\n",
    "\n",
    "## <font color='blue'>Show How the Global Happiness Score Changes Over Time.</font>\n"
   ]
  },
  {
   "cell_type": "code",
   "execution_count": 28,
   "id": "409db434",
   "metadata": {},
   "outputs": [
    {
     "data": {
      "image/png": "[encoded data removed]",
      "text/plain": [
       "<Figure size 1000x500 with 1 Axes>"
      ]
     },
     "metadata": {},
     "output_type": "display_data"
    }
   ],
   "source": [
    "#calculating the global happiness score by year\n",
    "global_over_time = df.groupby('Year')['Happiness Score'].mean().reset_index()\n",
    "\n",
    "# Visualization\n",
    "plt.figure(figsize=(10, 5))\n",
    "sns.lineplot(data=global_over_time, x='Year', y='Happiness Score', marker='o')\n",
    "plt.title('Global Happiness Score Over Time')\n",
    "plt.xticks(ticks=[2015, 2016, 2017, 2018, 2019])\n",
    "plt.show()"
   ]
  },
  {
   "cell_type": "markdown",
   "id": "8e7f2ae1",
   "metadata": {},
   "source": [
    "### <font color='green'>There was a decline in global happiness from 2015 to 2017, with the score dropping from around 5.38 to approximately 5.35. In addition, there was a noticeable increase starting in 2018, with the happiness score rising sharply to just above 5.40 by 2019. This upward trend shows that there were global factors which had a positive impact on the happiness of populations worldwide during this period.</font>\n",
    "\n",
    "## <font color='blue'>Show how the Happiness Score Changes by Region along the years.</font>"
   ]
  },
  {
   "cell_type": "code",
   "execution_count": 29,
   "id": "52c2923f",
   "metadata": {},
   "outputs": [
    {
     "data": {
      "image/png": "[encoded data removed]",
      "text/plain": [
       "<Figure size 1400x900 with 1 Axes>"
      ]
     },
     "metadata": {},
     "output_type": "display_data"
    }
   ],
   "source": [
    "grouped = df.groupby(['Year','Region'])['Happiness Score'].mean().reset_index()\n",
    "\n",
    "plt.figure(figsize=(14, 9))\n",
    "sns.lineplot(x='Year', y='Happiness Score', hue='Region', data=grouped, linewidth=5)\n",
    "plt.title('Happiness Score Over Time by Region')\n",
    "plt.xlabel('Year')\n",
    "plt.ylabel('Happiness Score')\n",
    "plt.legend(bbox_to_anchor=(1, 1), loc='center left')\n",
    "plt.xticks(ticks=[2015, 2016, 2017, 2018, 2019])\n",
    "plt.show()\n",
    "\n"
   ]
  },
  {
   "cell_type": "markdown",
   "id": "76a03732",
   "metadata": {},
   "source": [
    "- ### <font color='green'>Australia and New Zealand, Western Europe, and North America remaind the regions with the highest happiness scores accross the years, which reflects an overall well-living conditions.</font> \n",
    "\n",
    "- ### <font color='green'>Latin America and Caribbean, Eastrern Asia, Middle East and North Africa, Central and Eastern Europe, and Southeastren Asia kept an intermidate happiness score, which shows acceptable living conditions.</font>\n",
    "\n",
    "- ### <font color='green'>Southern Asia and Sub-Saharan Africa remaind with the lowest happiness scores along the years.</font>\n",
    "\n",
    "- ### <font color='green'>Most regions remaind consistant in their average happiness score. However, there was a noticable decrease in Latin America and Caribbean score in 2017. In addition, regions like North America and Central and Eastern Europe experienced an increase in their score in 2018 and 2019.</font>\n",
    "\n",
    "### <font color='purple'>These trends can be influenced by factors like economics, social support, and political stability.</font>\n",
    "\n",
    "## <font color='blue'>Based on the data and your intuition, how you expect the global happiness score in the following 2 years?</font>"
   ]
  },
  {
   "cell_type": "markdown",
   "id": "7c4c6dd8",
   "metadata": {},
   "source": [
    "Based on the trends observed from 2015 to 2019, I anticipate that regions with historically high happiness scores, such as Australia and New Zealand, Western Europe, and North America, will likely maintain relatively stable or even slightly increasing happiness scores in the following years.\n",
    "\n",
    "Similarly, regions with intermediate happiness scores, like Latin America and Caribbean, Eastern Asia, Middle East and North Africa, Central and Eastern Europe, and Southeastern Asia, may see minor fluctuations but are expected to generally maintain acceptable living conditions.\n",
    "\n",
    "However, regions with consistently low happiness scores, such as Southern Asia and Sub-Saharan Africa, may continue to face challenges in improving overall well-being."
   ]
  }
 ],
 "metadata": {
  "kernelspec": {
   "display_name": "Python 3 (ipykernel)",
   "language": "python",
   "name": "python3"
  },
  "language_info": {
   "codemirror_mode": {
    "name": "ipython",
    "version": 3
   },
   "file_extension": ".py",
   "mimetype": "text/x-python",
   "name": "python",
   "nbconvert_exporter": "python",
   "pygments_lexer": "ipython3",
   "version": "3.11.5"
  }
 },
 "nbformat": 4,
 "nbformat_minor": 5
}
